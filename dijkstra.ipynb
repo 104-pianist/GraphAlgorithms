{
 "cells": [
  {
   "cell_type": "code",
   "execution_count": 7,
   "id": "76ce9647",
   "metadata": {},
   "outputs": [
    {
     "name": "stderr",
     "output_type": "stream",
     "text": [
      "UsageError: Line magic function `%matplotlib.plt.pyplot` not found.\n"
     ]
    }
   ],
   "source": [
    "import torch\n",
    "import dgl\n",
    "import numpy as np\n",
    "import networkx as nx\n",
    "import scipy.sparse as sp\n",
    "from collections import defaultdict\n",
    "import matplotlib.pyplot as plt\n",
    "%matplotlib.plt.pyplot line"
   ]
  },
  {
   "cell_type": "code",
   "execution_count": 8,
   "id": "8448d140",
   "metadata": {},
   "outputs": [],
   "source": [
    "class dijkstra:\n",
    "    def shortest_path(self, graph, start_node, end_node):\n",
    "        path = [-1] * len(graph)\n",
    "        for i in range(len(graph)):\n",
    "            if graph[start_node][i] == inf or graph[start_node][i] == 0:\n",
    "                path[i] = -1\n",
    "            else:\n",
    "                path[i] = start_node\n",
    "        visited = [start_node]\n",
    "        rested = [_ for _ in range(len(graph)) if _ != start_node]\n",
    "        distance = graph[start_node]\n",
    "        \n",
    "        while len(rested):\n",
    "            min_idx = rested[0]\n",
    "            for i in rested:\n",
    "                if distance[i] < distance[min_idx]:\n",
    "                    min_idx = i\n",
    "            if min_idx == end_node:\n",
    "                break\n",
    "            visited.append(min_idx)\n",
    "            rested.remove(min_idx)\n",
    "            \n",
    "            for i in rested:\n",
    "                if distance[min_idx] + graph[min_idx][i] < distance[i]:\n",
    "                    distance[i] = distance[min_idx] + graph[min_idx][i]\n",
    "                    path[i] = min_idx\n",
    "        return path, distance[end_node]"
   ]
  },
  {
   "cell_type": "code",
   "execution_count": 9,
   "id": "214db54d",
   "metadata": {},
   "outputs": [
    {
     "name": "stdout",
     "output_type": "stream",
     "text": [
      "15\n",
      "[-1, 0, 1, 1, 2, 3]\n"
     ]
    }
   ],
   "source": [
    "inf = 10086\n",
    "graph = [[0, 1, 12, inf, inf, inf],\n",
    "          [inf, 0, 9, 3, inf, inf],\n",
    "          [inf, inf, 0, 4, 5, inf],\n",
    "          [inf, inf, inf, 0, 13, 15],\n",
    "          [inf, inf, inf ,inf, 0, 4],\n",
    "          [inf, inf, inf, inf ,inf, 0]]\n",
    "start_node = 0\n",
    "end_node = 4\n",
    "path, distance = dijkstra().shortest_path(graph, start_node, end_node)\n",
    "print(distance)\n",
    "print(path)"
   ]
  },
  {
   "cell_type": "code",
   "execution_count": 10,
   "id": "b87950cd",
   "metadata": {},
   "outputs": [
    {
     "name": "stdout",
     "output_type": "stream",
     "text": [
      "{(0, 1), (2, 4), (1, 2)}\n"
     ]
    }
   ],
   "source": [
    "edges = set()\n",
    "v = end_node\n",
    "while path[end_node] != -1:\n",
    "    u = path[end_node]\n",
    "    edges.add((u, v))\n",
    "    end_node = u\n",
    "    v = u\n",
    "# edges = edges[::-1]\n",
    "print(edges)"
   ]
  },
  {
   "cell_type": "code",
   "execution_count": 11,
   "id": "4a3aabaa",
   "metadata": {},
   "outputs": [
    {
     "name": "stdout",
     "output_type": "stream",
     "text": [
      "[(0, 1, 0), (0, 2, 0), (1, 2, 0), (1, 3, 0), (2, 4, 0), (2, 3, 0), (3, 4, 0), (3, 5, 0), (4, 5, 0)]\n"
     ]
    },
    {
     "data": {
      "text/plain": [
       "{(0, 1): Text(0.2763591244389469, 0.7469414494660807, '1'),\n",
       " (0, 2): Text(0.5084298086706343, 0.5288580451288899, '12'),\n",
       " (1, 2): Text(0.15923294791551273, 0.35929411604845607, '9'),\n",
       " (1, 3): Text(0.0002609816392388914, 0.08394663405939573, '3'),\n",
       " (2, 4): Text(-0.07256943288321524, -0.04219932333265289, '5'),\n",
       " (2, 3): Text(0.2323316658709262, -0.13413677027779503, '4'),\n",
       " (3, 4): Text(-0.23154139915948907, -0.3175468053217132, '13'),\n",
       " (3, 5): Text(-0.20378969155573165, -0.7047421261334277, '15'),\n",
       " (4, 5): Text(-0.5086907903098731, -0.6128046791882855, '4')}"
      ]
     },
     "execution_count": 11,
     "metadata": {},
     "output_type": "execute_result"
    },
    {
     "data": {
      "image/png": "[encoded data removed]",
      "text/plain": [
       "<Figure size 432x288 with 1 Axes>"
      ]
     },
     "metadata": {},
     "output_type": "display_data"
    }
   ],
   "source": [
    "row = np.array([0, 0, 1, 1, 2, 2, 3, 3, 4])\n",
    "col = np.array([1, 2, 2, 3, 4, 3, 4, 5, 5])\n",
    "data = np.array([1, 12, 9, 3, 5, 4, 13, 15, 4])\n",
    "n = len(graph)\n",
    "sp_mat = sp.coo_matrix((data, (row, col)), shape=(n, n))\n",
    "G = dgl.from_scipy(sp_mat, eweight_name='w')\n",
    "# Since the actual graph is undirected, we convert it for visualization\n",
    "# purpose.\n",
    "nx_G = G.to_networkx().to_undirected()\n",
    "cnt = len(row)\n",
    "edge_color = ['b'] * cnt\n",
    "print(list(nx_G.edges))\n",
    "edges_all = list(nx_G.edges)\n",
    "for i in range(cnt):\n",
    "    u = edges_all[i][0]\n",
    "    v = edges_all[i][1]\n",
    "    if (u, v) in edges:\n",
    "        edge_color[i] = 'r'\n",
    "# Kamada-Kawaii layout usually looks pretty for arbitrary graphs\n",
    "pos = nx.kamada_kawai_layout(nx_G)\n",
    "nx.draw(nx_G, pos, with_labels=True, node_color=[[.7, .7, .7]], edge_color=tuple(edge_color))\n",
    "edge_labels = defaultdict(tuple)\n",
    "for i in range(len(row)):\n",
    "    edge_labels[(row[i], col[i])] = data[i]\n",
    "nx.draw_networkx_edge_labels(G, pos, edge_labels=edge_labels, font_color='b')"
   ]
  },
  {
   "cell_type": "code",
   "execution_count": null,
   "id": "83758626",
   "metadata": {},
   "outputs": [],
   "source": []
  }
 ],
 "metadata": {
  "interpreter": {
   "hash": "461aba32aaaed833e4efe14b8e2c7ade24a373021e4000ac6d9ad958d3f1bde4"
  },
  "kernelspec": {
   "display_name": "Python 3.8.8 64-bit ('base': conda)",
   "language": "python",
   "name": "python3"
  },
  "language_info": {
   "codemirror_mode": {
    "name": "ipython",
    "version": 3
   },
   "file_extension": ".py",
   "mimetype": "text/x-python",
   "name": "python",
   "nbconvert_exporter": "python",
   "pygments_lexer": "ipython3",
   "version": "3.8.8"
  }
 },
 "nbformat": 4,
 "nbformat_minor": 5
}
